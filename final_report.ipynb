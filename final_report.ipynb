{
 "cells": [
  {
   "cell_type": "markdown",
   "metadata": {},
   "source": [
    "# BACKGROUND INFORMATION OF THE DATA"
   ]
  },
  {
   "cell_type": "markdown",
   "metadata": {},
   "source": [
    "* FIFA is an abbreviation for French name Fédération Internationale de Football Association, which means International Federation of Association Football in English. It is an organization that serves as a regulator and coordinator for association football, futsal, and beach football. Most notably, the World Cup held in last summer was first established and ran by FIFA as well. Football in Europe is more commonly known as soccer in the United States. \n",
    "* The video game FIFA, which is enfranchised by FIFA, also known as FIFA football or FIFA soccer, is a series of association soccer video games or soccer simulator, released annually by Electronic Arts under the EA Sports label since 1993 (Wiki). FIFA 18 was released on September 29, 2017, and one major feature of FIFA 18 is the game mode--Ultimate Team. \n",
    "* In FIFA Ultimate Team, or FUT, we control the virtual players to score more goals than the opponents do in a 90 minutes playing frame, and the rules in game are exactly the same as the rules in real world, some of them are:\n",
    "    - Each half time of a match is 45 minutes pluses the injury time. Unlike basketball game, the timer in soccer match would not stop when one is injured or commits a foul and thus, injury time is used to compensate for both teams to play the full length of a game. \n",
    "    - Each team consists of 11 players.\n",
    "    - To score the ball must go into your opponent’s goal. The whole ball needs to be over the line for it to be a legitimate goal. A goal can be scored with any part of the body apart from the hand or arm up to the shoulder. The goal itself consists of a frame measuring 8 feet high and 8 yards wide.\n",
    "    - To win the player’s team has to score more goals than that of the opponents. If the scores are level after 90 minutes then the game will end as a draw apart from in cup games where the game can go to extra time and even a penalty shootout to decide the winner. Virtual players must use their feet to kick the ball and are prohibited to use their hands apart from goalkeepers who can use any part of their body within the 18 yard box.\n",
    "    - Each side of the pitch has a penalty zone, in which goalkeepers are allowed to handle the ball using hands.\n",
    "    - Additionally, each team allows up to 3 substitutions in a game. \n",
    "\n",
    "* In FUT, each soccer player is assigned a rating based on how good they are in reality, and the game player’s job is to compile dream teams from the players in a formation of his choice. Soccer players are generally divided into four groups: goalkeepers, defenders, midfielders as well as strikers: \n",
    "\n",
    "    - A Goalkeeper (GK) is the last defensive line and is responsible for keeping the goal from being scored. Defenders help with defending and clearing the ball.\n",
    "    - There are three types of defender: left back (LB), center back (CB), and right back (RB). Besides defending, LB and RB sometimes need to participate in attacking. Also, it is good to have high and physically strong CB as they need to compete for headers. \n",
    "    - There are seven types of midfielders, which are left wing back (LWB), right wing back (RWB), center defensive midfielder (CDM), center midfielder (CM), center attacking midfielder (CAM), left midfielder (LM), and right midfielder (RM), but a team does not necessarily have all seven types play on the pitch at the same time. Midfielders have different emphasis on what they do on the field. CDM plays more aggressively in defending, while CM is usually the playmaker who could pass incisively to the strikers. CAM is like a half striker since they participate in attacking the most among midfielders. LM, LWB, RM as well as RWB usually cross the ball to open up space for strikers to score, and they need to assist in defending. \n",
    "    - Strikers, as the first defensive line while the opponent is counter attacking, have four types, namely, left wing (LW), right wing (RW), center forward (CF), and striker (ST). LW and RW not only cross the ball, but also need to cut inside the penalty zone to score, while CF and ST are the most reliable in scoring. To build a team, we need 11 starting players, 7 players on the bench, and 5 reserved players, who can substitute for the starting players or bench players before the game in the case of injury. A formation decides how we want to posit the starting players. An example of a formation is 4-4-2, meaning there is 1 goalkeeper, 4 defender, 4 midfielders, and 2 forwards. We need one goalkeeper, which is for obvious reason so that it is omitted in the formation, and it is conventional to have 3 or 4 defenders. Depending on our tactics, we could adjust the number of midfielder and striker accordingly. For example, if we are leading and we want to play conservatively to keep the lead, we can have more midfielders and fewer strikers to gain possession; if we are losing and want to come back, we would substitute more strikers on to press the opponent’s defensive line. \n",
    " \n",
    "* The FIFA Ultimate Team dataset we are examining is collected and edited by a kaggle user, Stefano Leone. He scraped the data from a publicly available website called futbin.com, and uploaded the first version of the dataset in August 2018, when FIFA had finalized their updates. The final version is updated in September 2019, with some changes in column descriptions and column types. The data is originally collected by FUTBIN, a tool aims to help FUT players find the right prices in a fast and reliable manners.  In FUT, each player’s statistics is reviewed once a week. Depending on how they perform in the previous week, EA Sports would promote player cards that with special design. For instance, to celebrate Halloween, the company would select some players that outperform the other in the previous matches and give them higher rating, along with some pumpkins in the background of the player card. Similarly, if one were elected to be in Team of The Week (TOTW), he would be given a black background in the card. \n",
    "\n",
    "* There are 21561 rows and 84 columns in the dataset. Since each player might have different versions of himself (upgrades, transfers or special events), we regard each row as an observational unit showing the player’s card and its different attributes. Here is a list of explanation of each variable:\n",
    "    + Player_ID (numerical): an arbitrary ID assigned by the futbin.com (a forum used to discuss FIFA Ultimate Team)\n",
    " \n",
    "    + player_name (categorical): shortened name of the player\n",
    " \n",
    "    + player_extended_name (categorical): full name of the player\n",
    " \n",
    "    + quality (categorical): rank of the player card\n",
    "        - Bronze \n",
    "        - Bronze-Rare\n",
    "        - Silver\n",
    "        - Silver-Rare\n",
    "        - Gold\n",
    "        - Gold-Rare\n",
    "    + Revision (categorical): player card typology\n",
    "        - Normal: normal type\n",
    "        - Icon: legendary type\n",
    "        - Halloween: Halloween limited type\n",
    "        - TOTY: team of the year type …\n",
    "    + Origin (categorical): reason to be included in the ultimate team\n",
    "        - TOTW13: the player is elected to be in team of the week 13\n",
    "        - TOTS: the player is elected to be in team of the season …\n",
    "    + overall (numerical): overall skills level (the higher, the better)\n",
    " \n",
    "    + club (categorical): club in which the player plays\n",
    " \n",
    "    + league (categorical): league in which the player plays\n",
    " \n",
    "    + nationality (categorical): the player’s nationality\n",
    " \n",
    "    + position (categorical): preferred position\n",
    " \n",
    "    + age (numerical): player’s age up to the released data (9/29/17)\n",
    " \n",
    "    + data_of_birth (categorical): player’s DoB\n",
    " \n",
    "    + height (numerical): height in cm\n",
    " \n",
    "    + weight (numerical): weight in kg\n",
    " \n",
    "    + intl_rep (numerical): international reputation, from 1, the lowest, to 5, the highest\n",
    " \n",
    "    + added_date (categorical): date in which the card is added to the ultimate team (first ones included in 9/20/2017)\n",
    " \n",
    "    + pace (numerical): overall pace rating (N/A for goal keeper)\n",
    " \n",
    "    + pace_acceleration (numerical): pace rating in acceleration\n",
    " \n",
    "    + pace_sprint_speed (numerical): pace rating in sprint speed\n",
    " \n",
    "    + dribbling (numerical): overall dribbling skills rating\n",
    " \n",
    "    + drib_agility (numerical):rating in agility \n",
    "     \n",
    "    + drib_balance (numerical): rating in balance\n",
    " \n",
    "    + drib_reactions (numerical)rating in reaction\n",
    " \n",
    "    + drib_ball_control (numerical): rating in ball control while dribbling\n",
    " \n",
    "    + drib_dribbling (numerical): rating in dribbling \n",
    " \n",
    "    + drib_composure (numerical): rating of composure while dribbling\n",
    " \n",
    "    + shooting (numerical): overall rating in shooting\n",
    " \n",
    "    + shoot_positioning (numerical): rating in shooting from different position\n",
    " \n",
    "    + shoot_finishing (numerical): rating in finishing \n",
    " \n",
    "    + shoot_shot_power (numerical): rating in shot power\n",
    " \n",
    "    + shoot_long_shots (numerical): rating in accuracy of long shots\n",
    " \n",
    "    + shoot_volleys (numerical): rating in volley accuracy\n",
    " \n",
    "    + shoot_penalties (numerical): rating in taking penalities\n",
    " \n",
    "    + passing (numerical): overall passing skills\n",
    " \n",
    "    + pass_vision (numerical): vision in passing\n",
    " \n",
    "    + pass_crossing (numerical): rating in crossing \n",
    " \n",
    "    + pass_free_kick (numerical): accuracy of passing through free kick\n",
    " \n",
    "    + pass_short (numerical): short pass accuracy\n",
    " \n",
    "    + pass_long (numerical):  long pass accuracy\n",
    " \n",
    "    + pass_curve (numerical): curve in passing\n",
    " \n",
    "    + defending (numerical): overall defending rating\n",
    " \n",
    "    + def_interceptions (numerical): skill in interception\n",
    " \n",
    "    + def_heading (numerical): skill in clearing through header\n",
    " \n",
    "    + def_marking (numerical): skill in marking opposing team member\n",
    " \n",
    "    + def_stand_tackle (numerical): skill in stand tackling\n",
    " \n",
    "    + def_slid_tackle (numerical): skill in slide tackling \n",
    " \n",
    "    + physicality (numerical): overall physicality \n",
    " \n",
    "    + phys_jumping (numerical): rating in jumping\n",
    " \n",
    "    + phys_stamina (numerical): rating in stamina\n",
    " \n",
    "    + phys_strength (numerical): rating in strength\n",
    " \n",
    "    + phys_aggression (numerical): rating in aggressive play style\n",
    " \n",
    "    + gk_diving (numerical): rating in diving save\n",
    " \n",
    "    + gk_reflexes (numerical): rating in reflexes\n",
    " \n",
    "    + gk_handling (numerical): rating in how well goal keepers could hold on to the ball\n",
    " \n",
    "    + gk_speed (numerical): rating in how quick the goal keeper could move\n",
    " \n",
    "    + gk_kicking (numerical): accuracy of long pass for goal keeper\n",
    " \n",
    "    + gk_positoning (numerical): rating in how well the goal keeper select position\n",
    "\n",
    "    + pref_foot (categorical): preferred foot\n",
    "        + Left\n",
    "        + Right\n",
    " \n",
    "    + att_workrate (categorical): attack work rate\n",
    "        + Low\n",
    "        + Med\n",
    "        + High\n",
    " \n",
    "    + def_workrate (categorical): defend work rate\n",
    "        + Low\n",
    "        + Med\n",
    "        + High\n",
    " \n",
    "    + weak_foot (numerical):how is the player perform using their weak foot (rating from 1 to 5)\n",
    "\n",
    "    + skill_moves (numerical):how fancy is the player’s skill moves (rating from 1 to 5)\n",
    "\n",
    "    + cb (numerical): rating in playing center back\n",
    "\n",
    "    + rb (numerical):rating in playing right back\n",
    "\n",
    "    + lb (numerical):rating in playing left back\n",
    "\n",
    "    + rwb (numerical):rating in playing right wing back\n",
    "\n",
    "    + lwb (numerical):rating in playing left wing back\n",
    "\n",
    "    + cdm (numerical):rating in playing central defensive midfield\n",
    "\n",
    "    + cm (numerical):rating in playing center midfield\n",
    "\n",
    "    + rm (numerical):rating in playing right midfield\n",
    "\n",
    "    + lm (numerical):rating in playing left midfield\n",
    "\n",
    "    + cam (numerical):rating in playing center attacking midfield\n",
    "\n",
    "    + cf (numerical):rating in playing central forward\n",
    "\n",
    "    + rf (numerical):rating in playing right forward\n",
    "\n",
    "    + lf (numerical):rating in playing left forward\n",
    "\n",
    "    + rw (numerical):rating in playing right winger\n",
    "\n",
    "    + lw (numerical):rating in playing left winger\n",
    "\n",
    "    + st (numerical):rating in playing striker\n",
    "\n",
    "    + price_ps4 (numerical): price of the player card on PS4 platform\n",
    "\n",
    "    + price_xbox (numerical): price of the player card on XBOX platform\n",
    "\n",
    "    + price_pc (numerical):price of the player card on PC platform\n",
    "\n",
    "    + traits (categorical): player’s traits (long thrower, flair…)\n",
    "\n",
    "    + specialties (categorical): player’s specialty (free kick specialist, crosser, tackler, tactician, play maker…)\n",
    "\n",
    "* Anuj Agalwar, a student from IIT Bombay, conducted a similar research on FIFA Ultimate Team using R in 2017. His research aimed to correlate player’s age with his overall rating and potential, and he began with several scatter plots to show the correlation between age and overall rating as well as the correlation between age and potential. To draw a conclusion, Anuj used t-test and built a linear model to regress age on overall and potential. From the t-test and linear model, we could conclude that overall rating and potential do have significant correlation with age. In addition, github user ashishpowani did an analysis on classifying the player’s preferred position using three different classification models. Along with some exploratory data analysis, we can see from the conclusion that logistic regression, random forest, and neural network all result in decent accuracy in prediction.\n"
   ]
  },
  {
   "cell_type": "markdown",
   "metadata": {},
   "source": [
    "# EXPLORATORY ANALYSIS OF DATA"
   ]
  },
  {
   "cell_type": "code",
   "execution_count": 1,
   "metadata": {},
   "outputs": [],
   "source": [
    "import pandas as pd\n",
    "import numpy as np\n",
    "import matplotlib.pyplot as plt\n",
    "from sklearn import linear_model, model_selection\n",
    "from sklearn.model_selection import train_test_split\n",
    "import seaborn as sns"
   ]
  },
  {
   "cell_type": "code",
   "execution_count": 2,
   "metadata": {},
   "outputs": [],
   "source": [
    "data = pd.read_csv('FIFA18 - Ultimate Team players.csv')"
   ]
  },
  {
   "cell_type": "code",
   "execution_count": 3,
   "metadata": {},
   "outputs": [
    {
     "data": {
      "text/html": [
       "<div>\n",
       "<style scoped>\n",
       "    .dataframe tbody tr th:only-of-type {\n",
       "        vertical-align: middle;\n",
       "    }\n",
       "\n",
       "    .dataframe tbody tr th {\n",
       "        vertical-align: top;\n",
       "    }\n",
       "\n",
       "    .dataframe thead th {\n",
       "        text-align: right;\n",
       "    }\n",
       "</style>\n",
       "<table border=\"1\" class=\"dataframe\">\n",
       "  <thead>\n",
       "    <tr style=\"text-align: right;\">\n",
       "      <th></th>\n",
       "      <th>player_ID</th>\n",
       "      <th>player_name</th>\n",
       "      <th>player_extended_name</th>\n",
       "      <th>quality</th>\n",
       "      <th>revision</th>\n",
       "      <th>origin</th>\n",
       "      <th>overall</th>\n",
       "      <th>club</th>\n",
       "      <th>league</th>\n",
       "      <th>nationality</th>\n",
       "      <th>...</th>\n",
       "      <th>rf</th>\n",
       "      <th>lf</th>\n",
       "      <th>rw</th>\n",
       "      <th>lw</th>\n",
       "      <th>st</th>\n",
       "      <th>price_ps4</th>\n",
       "      <th>price_xbox</th>\n",
       "      <th>price_pc</th>\n",
       "      <th>traits</th>\n",
       "      <th>specialties</th>\n",
       "    </tr>\n",
       "  </thead>\n",
       "  <tbody>\n",
       "    <tr>\n",
       "      <th>0</th>\n",
       "      <td>1</td>\n",
       "      <td>Pelé</td>\n",
       "      <td>Edson Arantes Nascimento</td>\n",
       "      <td>Gold - Rare</td>\n",
       "      <td>Icon</td>\n",
       "      <td>NaN</td>\n",
       "      <td>98</td>\n",
       "      <td>Icons</td>\n",
       "      <td>Icons</td>\n",
       "      <td>Brazil</td>\n",
       "      <td>...</td>\n",
       "      <td>96.0</td>\n",
       "      <td>96.0</td>\n",
       "      <td>96.0</td>\n",
       "      <td>96.0</td>\n",
       "      <td>95.0</td>\n",
       "      <td>3490000.0</td>\n",
       "      <td>3141000.0</td>\n",
       "      <td>NaN</td>\n",
       "      <td>Leadership, Shooting - Finesse Shot, Playmaker...</td>\n",
       "      <td>Speedster, Aerial Threat, Dribbler, Play Maker...</td>\n",
       "    </tr>\n",
       "    <tr>\n",
       "      <th>1</th>\n",
       "      <td>2</td>\n",
       "      <td>Maradona</td>\n",
       "      <td>Diego Maradona</td>\n",
       "      <td>Gold - Rare</td>\n",
       "      <td>Icon</td>\n",
       "      <td>NaN</td>\n",
       "      <td>97</td>\n",
       "      <td>Icons</td>\n",
       "      <td>Icons</td>\n",
       "      <td>Argentina</td>\n",
       "      <td>...</td>\n",
       "      <td>94.0</td>\n",
       "      <td>94.0</td>\n",
       "      <td>94.0</td>\n",
       "      <td>94.0</td>\n",
       "      <td>90.0</td>\n",
       "      <td>3800000.0</td>\n",
       "      <td>2418000.0</td>\n",
       "      <td>NaN</td>\n",
       "      <td>Avoids Using Weaker Foot, Shooting - Finesse S...</td>\n",
       "      <td>Speedster, Dribbler, Play Maker, Distance Shoo...</td>\n",
       "    </tr>\n",
       "    <tr>\n",
       "      <th>2</th>\n",
       "      <td>3</td>\n",
       "      <td>Ronaldo</td>\n",
       "      <td>Ronaldo Luís Nazário de Lima</td>\n",
       "      <td>Gold - Rare</td>\n",
       "      <td>Icon</td>\n",
       "      <td>NaN</td>\n",
       "      <td>96</td>\n",
       "      <td>Icons</td>\n",
       "      <td>Icons</td>\n",
       "      <td>Brazil</td>\n",
       "      <td>...</td>\n",
       "      <td>94.0</td>\n",
       "      <td>94.0</td>\n",
       "      <td>92.0</td>\n",
       "      <td>92.0</td>\n",
       "      <td>94.0</td>\n",
       "      <td>4499000.0</td>\n",
       "      <td>4200000.0</td>\n",
       "      <td>NaN</td>\n",
       "      <td>Tries To Beat Defensive Line, Shooting - Fines...</td>\n",
       "      <td>Speedster, Dribbler, Distance Shooter, FK Spec...</td>\n",
       "    </tr>\n",
       "    <tr>\n",
       "      <th>3</th>\n",
       "      <td>4</td>\n",
       "      <td>Pelé</td>\n",
       "      <td>Edson Arantes Nascimento</td>\n",
       "      <td>Gold - Rare</td>\n",
       "      <td>Icon</td>\n",
       "      <td>NaN</td>\n",
       "      <td>95</td>\n",
       "      <td>Icons</td>\n",
       "      <td>Icons</td>\n",
       "      <td>Brazil</td>\n",
       "      <td>...</td>\n",
       "      <td>94.0</td>\n",
       "      <td>94.0</td>\n",
       "      <td>94.0</td>\n",
       "      <td>94.0</td>\n",
       "      <td>92.0</td>\n",
       "      <td>1770000.0</td>\n",
       "      <td>2099000.0</td>\n",
       "      <td>NaN</td>\n",
       "      <td>Shooting - Finesse Shot, Technical Dribbler</td>\n",
       "      <td>Speedster, Dribbler, Distance Shooter, Crosser...</td>\n",
       "    </tr>\n",
       "    <tr>\n",
       "      <th>4</th>\n",
       "      <td>5</td>\n",
       "      <td>Maradona</td>\n",
       "      <td>Diego Maradona</td>\n",
       "      <td>Gold - Rare</td>\n",
       "      <td>Icon</td>\n",
       "      <td>NaN</td>\n",
       "      <td>95</td>\n",
       "      <td>Icons</td>\n",
       "      <td>Icons</td>\n",
       "      <td>Argentina</td>\n",
       "      <td>...</td>\n",
       "      <td>92.0</td>\n",
       "      <td>92.0</td>\n",
       "      <td>92.0</td>\n",
       "      <td>92.0</td>\n",
       "      <td>88.0</td>\n",
       "      <td>1100000.0</td>\n",
       "      <td>1369000.0</td>\n",
       "      <td>NaN</td>\n",
       "      <td>Avoids Using Weaker Foot, Shooting - Finesse S...</td>\n",
       "      <td>Dribbler, Play Maker, Distance Shooter, Crosse...</td>\n",
       "    </tr>\n",
       "  </tbody>\n",
       "</table>\n",
       "<p>5 rows × 84 columns</p>\n",
       "</div>"
      ],
      "text/plain": [
       "   player_ID player_name          player_extended_name      quality revision  \\\n",
       "0          1        Pelé      Edson Arantes Nascimento  Gold - Rare     Icon   \n",
       "1          2    Maradona                Diego Maradona  Gold - Rare     Icon   \n",
       "2          3     Ronaldo  Ronaldo Luís Nazário de Lima  Gold - Rare     Icon   \n",
       "3          4        Pelé      Edson Arantes Nascimento  Gold - Rare     Icon   \n",
       "4          5    Maradona                Diego Maradona  Gold - Rare     Icon   \n",
       "\n",
       "  origin  overall   club league nationality  \\\n",
       "0    NaN       98  Icons  Icons      Brazil   \n",
       "1    NaN       97  Icons  Icons   Argentina   \n",
       "2    NaN       96  Icons  Icons      Brazil   \n",
       "3    NaN       95  Icons  Icons      Brazil   \n",
       "4    NaN       95  Icons  Icons   Argentina   \n",
       "\n",
       "                         ...                            rf    lf    rw    lw  \\\n",
       "0                        ...                          96.0  96.0  96.0  96.0   \n",
       "1                        ...                          94.0  94.0  94.0  94.0   \n",
       "2                        ...                          94.0  94.0  92.0  92.0   \n",
       "3                        ...                          94.0  94.0  94.0  94.0   \n",
       "4                        ...                          92.0  92.0  92.0  92.0   \n",
       "\n",
       "     st  price_ps4 price_xbox  price_pc  \\\n",
       "0  95.0  3490000.0  3141000.0       NaN   \n",
       "1  90.0  3800000.0  2418000.0       NaN   \n",
       "2  94.0  4499000.0  4200000.0       NaN   \n",
       "3  92.0  1770000.0  2099000.0       NaN   \n",
       "4  88.0  1100000.0  1369000.0       NaN   \n",
       "\n",
       "                                              traits  \\\n",
       "0  Leadership, Shooting - Finesse Shot, Playmaker...   \n",
       "1  Avoids Using Weaker Foot, Shooting - Finesse S...   \n",
       "2  Tries To Beat Defensive Line, Shooting - Fines...   \n",
       "3        Shooting - Finesse Shot, Technical Dribbler   \n",
       "4  Avoids Using Weaker Foot, Shooting - Finesse S...   \n",
       "\n",
       "                                         specialties  \n",
       "0  Speedster, Aerial Threat, Dribbler, Play Maker...  \n",
       "1  Speedster, Dribbler, Play Maker, Distance Shoo...  \n",
       "2  Speedster, Dribbler, Distance Shooter, FK Spec...  \n",
       "3  Speedster, Dribbler, Distance Shooter, Crosser...  \n",
       "4  Dribbler, Play Maker, Distance Shooter, Crosse...  \n",
       "\n",
       "[5 rows x 84 columns]"
      ]
     },
     "execution_count": 3,
     "metadata": {},
     "output_type": "execute_result"
    }
   ],
   "source": [
    "data.head()"
   ]
  },
  {
   "cell_type": "code",
   "execution_count": 4,
   "metadata": {},
   "outputs": [
    {
     "data": {
      "text/html": [
       "<div>\n",
       "<style scoped>\n",
       "    .dataframe tbody tr th:only-of-type {\n",
       "        vertical-align: middle;\n",
       "    }\n",
       "\n",
       "    .dataframe tbody tr th {\n",
       "        vertical-align: top;\n",
       "    }\n",
       "\n",
       "    .dataframe thead th {\n",
       "        text-align: right;\n",
       "    }\n",
       "</style>\n",
       "<table border=\"1\" class=\"dataframe\">\n",
       "  <thead>\n",
       "    <tr style=\"text-align: right;\">\n",
       "      <th></th>\n",
       "      <th>player_ID</th>\n",
       "      <th>overall</th>\n",
       "      <th>age</th>\n",
       "      <th>height</th>\n",
       "      <th>weight</th>\n",
       "      <th>intl_rep</th>\n",
       "      <th>pace</th>\n",
       "      <th>pace_acceleration</th>\n",
       "      <th>pace_sprint_speed</th>\n",
       "      <th>dribbling</th>\n",
       "      <th>...</th>\n",
       "      <th>cam</th>\n",
       "      <th>cf</th>\n",
       "      <th>rf</th>\n",
       "      <th>lf</th>\n",
       "      <th>rw</th>\n",
       "      <th>lw</th>\n",
       "      <th>st</th>\n",
       "      <th>price_ps4</th>\n",
       "      <th>price_xbox</th>\n",
       "      <th>price_pc</th>\n",
       "    </tr>\n",
       "  </thead>\n",
       "  <tbody>\n",
       "    <tr>\n",
       "      <th>count</th>\n",
       "      <td>21561.000000</td>\n",
       "      <td>21561.000000</td>\n",
       "      <td>21561.000000</td>\n",
       "      <td>21561.000000</td>\n",
       "      <td>21561.000000</td>\n",
       "      <td>21561.00000</td>\n",
       "      <td>19379.000000</td>\n",
       "      <td>21534.000000</td>\n",
       "      <td>21534.000000</td>\n",
       "      <td>19379.000000</td>\n",
       "      <td>...</td>\n",
       "      <td>19353.000000</td>\n",
       "      <td>19353.000000</td>\n",
       "      <td>19353.000000</td>\n",
       "      <td>19353.000000</td>\n",
       "      <td>19353.000000</td>\n",
       "      <td>19353.000000</td>\n",
       "      <td>19353.000000</td>\n",
       "      <td>2.062900e+04</td>\n",
       "      <td>1.943700e+04</td>\n",
       "      <td>1.926600e+04</td>\n",
       "    </tr>\n",
       "    <tr>\n",
       "      <th>mean</th>\n",
       "      <td>10795.027086</td>\n",
       "      <td>68.897732</td>\n",
       "      <td>26.682853</td>\n",
       "      <td>181.401976</td>\n",
       "      <td>75.510134</td>\n",
       "      <td>1.25240</td>\n",
       "      <td>69.897002</td>\n",
       "      <td>66.876196</td>\n",
       "      <td>67.112427</td>\n",
       "      <td>65.024872</td>\n",
       "      <td>...</td>\n",
       "      <td>62.239446</td>\n",
       "      <td>62.053377</td>\n",
       "      <td>62.053377</td>\n",
       "      <td>62.053377</td>\n",
       "      <td>62.288947</td>\n",
       "      <td>62.288947</td>\n",
       "      <td>61.160802</td>\n",
       "      <td>1.208804e+04</td>\n",
       "      <td>1.095545e+04</td>\n",
       "      <td>8.837730e+03</td>\n",
       "    </tr>\n",
       "    <tr>\n",
       "      <th>std</th>\n",
       "      <td>6243.418732</td>\n",
       "      <td>8.557319</td>\n",
       "      <td>4.744557</td>\n",
       "      <td>6.767347</td>\n",
       "      <td>7.066488</td>\n",
       "      <td>0.64381</td>\n",
       "      <td>11.970813</td>\n",
       "      <td>15.027611</td>\n",
       "      <td>14.696633</td>\n",
       "      <td>11.579942</td>\n",
       "      <td>...</td>\n",
       "      <td>11.490885</td>\n",
       "      <td>11.621129</td>\n",
       "      <td>11.621129</td>\n",
       "      <td>11.621129</td>\n",
       "      <td>11.565302</td>\n",
       "      <td>11.565302</td>\n",
       "      <td>10.986715</td>\n",
       "      <td>1.087399e+05</td>\n",
       "      <td>9.862286e+04</td>\n",
       "      <td>8.752765e+04</td>\n",
       "    </tr>\n",
       "    <tr>\n",
       "      <th>min</th>\n",
       "      <td>1.000000</td>\n",
       "      <td>46.000000</td>\n",
       "      <td>17.000000</td>\n",
       "      <td>155.000000</td>\n",
       "      <td>49.000000</td>\n",
       "      <td>0.00000</td>\n",
       "      <td>21.000000</td>\n",
       "      <td>11.000000</td>\n",
       "      <td>11.000000</td>\n",
       "      <td>25.000000</td>\n",
       "      <td>...</td>\n",
       "      <td>28.000000</td>\n",
       "      <td>27.000000</td>\n",
       "      <td>27.000000</td>\n",
       "      <td>27.000000</td>\n",
       "      <td>26.000000</td>\n",
       "      <td>26.000000</td>\n",
       "      <td>31.000000</td>\n",
       "      <td>2.000000e+02</td>\n",
       "      <td>2.000000e+02</td>\n",
       "      <td>2.000000e+02</td>\n",
       "    </tr>\n",
       "    <tr>\n",
       "      <th>25%</th>\n",
       "      <td>5391.000000</td>\n",
       "      <td>63.000000</td>\n",
       "      <td>23.000000</td>\n",
       "      <td>177.000000</td>\n",
       "      <td>70.000000</td>\n",
       "      <td>1.00000</td>\n",
       "      <td>63.000000</td>\n",
       "      <td>59.000000</td>\n",
       "      <td>59.000000</td>\n",
       "      <td>58.000000</td>\n",
       "      <td>...</td>\n",
       "      <td>55.000000</td>\n",
       "      <td>55.000000</td>\n",
       "      <td>55.000000</td>\n",
       "      <td>55.000000</td>\n",
       "      <td>55.000000</td>\n",
       "      <td>55.000000</td>\n",
       "      <td>54.000000</td>\n",
       "      <td>2.000000e+02</td>\n",
       "      <td>3.000000e+02</td>\n",
       "      <td>2.500000e+02</td>\n",
       "    </tr>\n",
       "    <tr>\n",
       "      <th>50%</th>\n",
       "      <td>10781.000000</td>\n",
       "      <td>68.000000</td>\n",
       "      <td>26.000000</td>\n",
       "      <td>181.000000</td>\n",
       "      <td>75.000000</td>\n",
       "      <td>1.00000</td>\n",
       "      <td>71.000000</td>\n",
       "      <td>69.000000</td>\n",
       "      <td>69.000000</td>\n",
       "      <td>65.000000</td>\n",
       "      <td>...</td>\n",
       "      <td>63.000000</td>\n",
       "      <td>62.000000</td>\n",
       "      <td>62.000000</td>\n",
       "      <td>62.000000</td>\n",
       "      <td>63.000000</td>\n",
       "      <td>63.000000</td>\n",
       "      <td>61.000000</td>\n",
       "      <td>5.500000e+02</td>\n",
       "      <td>8.000000e+02</td>\n",
       "      <td>6.500000e+02</td>\n",
       "    </tr>\n",
       "    <tr>\n",
       "      <th>75%</th>\n",
       "      <td>16192.000000</td>\n",
       "      <td>74.000000</td>\n",
       "      <td>30.000000</td>\n",
       "      <td>186.000000</td>\n",
       "      <td>80.000000</td>\n",
       "      <td>1.00000</td>\n",
       "      <td>78.000000</td>\n",
       "      <td>77.000000</td>\n",
       "      <td>77.000000</td>\n",
       "      <td>72.000000</td>\n",
       "      <td>...</td>\n",
       "      <td>69.000000</td>\n",
       "      <td>69.000000</td>\n",
       "      <td>69.000000</td>\n",
       "      <td>69.000000</td>\n",
       "      <td>69.000000</td>\n",
       "      <td>69.000000</td>\n",
       "      <td>68.000000</td>\n",
       "      <td>1.600000e+03</td>\n",
       "      <td>2.400000e+03</td>\n",
       "      <td>1.600000e+03</td>\n",
       "    </tr>\n",
       "    <tr>\n",
       "      <th>max</th>\n",
       "      <td>21636.000000</td>\n",
       "      <td>99.000000</td>\n",
       "      <td>88.000000</td>\n",
       "      <td>205.000000</td>\n",
       "      <td>110.000000</td>\n",
       "      <td>5.00000</td>\n",
       "      <td>99.000000</td>\n",
       "      <td>99.000000</td>\n",
       "      <td>99.000000</td>\n",
       "      <td>99.000000</td>\n",
       "      <td>...</td>\n",
       "      <td>98.000000</td>\n",
       "      <td>98.000000</td>\n",
       "      <td>98.000000</td>\n",
       "      <td>98.000000</td>\n",
       "      <td>98.000000</td>\n",
       "      <td>98.000000</td>\n",
       "      <td>98.000000</td>\n",
       "      <td>4.717000e+06</td>\n",
       "      <td>4.200000e+06</td>\n",
       "      <td>3.850000e+06</td>\n",
       "    </tr>\n",
       "  </tbody>\n",
       "</table>\n",
       "<p>8 rows × 68 columns</p>\n",
       "</div>"
      ],
      "text/plain": [
       "          player_ID       overall           age        height        weight  \\\n",
       "count  21561.000000  21561.000000  21561.000000  21561.000000  21561.000000   \n",
       "mean   10795.027086     68.897732     26.682853    181.401976     75.510134   \n",
       "std     6243.418732      8.557319      4.744557      6.767347      7.066488   \n",
       "min        1.000000     46.000000     17.000000    155.000000     49.000000   \n",
       "25%     5391.000000     63.000000     23.000000    177.000000     70.000000   \n",
       "50%    10781.000000     68.000000     26.000000    181.000000     75.000000   \n",
       "75%    16192.000000     74.000000     30.000000    186.000000     80.000000   \n",
       "max    21636.000000     99.000000     88.000000    205.000000    110.000000   \n",
       "\n",
       "          intl_rep          pace  pace_acceleration  pace_sprint_speed  \\\n",
       "count  21561.00000  19379.000000       21534.000000       21534.000000   \n",
       "mean       1.25240     69.897002          66.876196          67.112427   \n",
       "std        0.64381     11.970813          15.027611          14.696633   \n",
       "min        0.00000     21.000000          11.000000          11.000000   \n",
       "25%        1.00000     63.000000          59.000000          59.000000   \n",
       "50%        1.00000     71.000000          69.000000          69.000000   \n",
       "75%        1.00000     78.000000          77.000000          77.000000   \n",
       "max        5.00000     99.000000          99.000000          99.000000   \n",
       "\n",
       "          dribbling      ...                cam            cf            rf  \\\n",
       "count  19379.000000      ...       19353.000000  19353.000000  19353.000000   \n",
       "mean      65.024872      ...          62.239446     62.053377     62.053377   \n",
       "std       11.579942      ...          11.490885     11.621129     11.621129   \n",
       "min       25.000000      ...          28.000000     27.000000     27.000000   \n",
       "25%       58.000000      ...          55.000000     55.000000     55.000000   \n",
       "50%       65.000000      ...          63.000000     62.000000     62.000000   \n",
       "75%       72.000000      ...          69.000000     69.000000     69.000000   \n",
       "max       99.000000      ...          98.000000     98.000000     98.000000   \n",
       "\n",
       "                 lf            rw            lw            st     price_ps4  \\\n",
       "count  19353.000000  19353.000000  19353.000000  19353.000000  2.062900e+04   \n",
       "mean      62.053377     62.288947     62.288947     61.160802  1.208804e+04   \n",
       "std       11.621129     11.565302     11.565302     10.986715  1.087399e+05   \n",
       "min       27.000000     26.000000     26.000000     31.000000  2.000000e+02   \n",
       "25%       55.000000     55.000000     55.000000     54.000000  2.000000e+02   \n",
       "50%       62.000000     63.000000     63.000000     61.000000  5.500000e+02   \n",
       "75%       69.000000     69.000000     69.000000     68.000000  1.600000e+03   \n",
       "max       98.000000     98.000000     98.000000     98.000000  4.717000e+06   \n",
       "\n",
       "         price_xbox      price_pc  \n",
       "count  1.943700e+04  1.926600e+04  \n",
       "mean   1.095545e+04  8.837730e+03  \n",
       "std    9.862286e+04  8.752765e+04  \n",
       "min    2.000000e+02  2.000000e+02  \n",
       "25%    3.000000e+02  2.500000e+02  \n",
       "50%    8.000000e+02  6.500000e+02  \n",
       "75%    2.400000e+03  1.600000e+03  \n",
       "max    4.200000e+06  3.850000e+06  \n",
       "\n",
       "[8 rows x 68 columns]"
      ]
     },
     "execution_count": 4,
     "metadata": {},
     "output_type": "execute_result"
    }
   ],
   "source": [
    "data.describe()"
   ]
  },
  {
   "cell_type": "code",
   "execution_count": 5,
   "metadata": {},
   "outputs": [
    {
     "data": {
      "text/plain": [
       "Index(['player_ID', 'player_name', 'player_extended_name', 'quality',\n",
       "       'revision', 'origin', 'overall', 'club', 'league', 'nationality',\n",
       "       'position', 'age', 'date_of_birth', 'height', 'weight', 'intl_rep',\n",
       "       'added_date', 'pace', 'pace_acceleration', 'pace_sprint_speed',\n",
       "       'dribbling', 'drib_agility', 'drib_balance', 'drib_reactions',\n",
       "       'drib_ball_control', 'drib_dribbling', 'drib_composure', 'shooting',\n",
       "       'shoot_positioning', 'shoot_finishing', 'shoot_shot_power',\n",
       "       'shoot_long_shots', 'shoot_volleys', 'shoot_penalties', 'passing',\n",
       "       'pass_vision', 'pass_crossing', 'pass_free_kick', 'pass_short',\n",
       "       'pass_long', 'pass_curve', 'defending', 'def_interceptions',\n",
       "       'def_heading', 'def_marking', 'def_stand_tackle', 'def_slid_tackle',\n",
       "       'physicality', 'phys_jumping', 'phys_stamina', 'phys_strength',\n",
       "       'phys_aggression', 'gk_diving', 'gk_reflexes', 'gk_handling',\n",
       "       'gk_speed', 'gk_kicking', 'gk_positoning', 'pref_foot', 'att_workrate',\n",
       "       'def_workrate', 'weak_foot', 'skill_moves', 'cb', 'rb', 'lb', 'rwb',\n",
       "       'lwb', 'cdm', 'cm', 'rm', 'lm', 'cam', 'cf', 'rf', 'lf', 'rw', 'lw',\n",
       "       'st', 'price_ps4', 'price_xbox', 'price_pc', 'traits', 'specialties'],\n",
       "      dtype='object')"
      ]
     },
     "execution_count": 5,
     "metadata": {},
     "output_type": "execute_result"
    }
   ],
   "source": [
    "data.columns"
   ]
  },
  {
   "cell_type": "markdown",
   "metadata": {},
   "source": [
    "## 10 most common nationalities of the players"
   ]
  },
  {
   "cell_type": "code",
   "execution_count": 6,
   "metadata": {},
   "outputs": [
    {
     "data": {
      "text/plain": [
       "England      2188\n",
       "Germany      1430\n",
       "Spain        1314\n",
       "France       1244\n",
       "Argentina     996\n",
       "Italy         969\n",
       "Colombia      784\n",
       "Brazil        760\n",
       "Holland       549\n",
       "Japan         544\n",
       "Name: nationality, dtype: int64"
      ]
     },
     "execution_count": 6,
     "metadata": {},
     "output_type": "execute_result"
    }
   ],
   "source": [
    "minidata = data.nationality.value_counts()\n",
    "countries = minidata[:10]\n",
    "countries"
   ]
  },
  {
   "cell_type": "markdown",
   "metadata": {},
   "source": [
    "## Reputation of players from these 10 countries. "
   ]
  },
  {
   "cell_type": "code",
   "execution_count": 7,
   "metadata": {},
   "outputs": [
    {
     "name": "stdout",
     "output_type": "stream",
     "text": [
      "Countries                 Argentina  Brazil  Colombia  England  France  \\\n",
      "International Reputation                                                 \n",
      "0                                 6       6         9        6      10   \n",
      "1                               797     482       715     1971     833   \n",
      "2                               109     141        42      134     244   \n",
      "3                                48      99        12       71     113   \n",
      "4                                26      15         6        6      40   \n",
      "5                                10      17         0        0       4   \n",
      "\n",
      "Countries                 Germany  Holland  Italy  Japan  Spain  \n",
      "International Reputation                                         \n",
      "0                               4        3      2      0     26  \n",
      "1                            1134      408    698    506    950  \n",
      "2                             202       73    195     30    189  \n",
      "3                              55       41     50      8    108  \n",
      "4                              34       24     24      0     41  \n",
      "5                               1        0      0      0      0  \n"
     ]
    },
    {
     "data": {
      "text/html": [
       "<div>\n",
       "<style scoped>\n",
       "    .dataframe tbody tr th:only-of-type {\n",
       "        vertical-align: middle;\n",
       "    }\n",
       "\n",
       "    .dataframe tbody tr th {\n",
       "        vertical-align: top;\n",
       "    }\n",
       "\n",
       "    .dataframe thead th {\n",
       "        text-align: right;\n",
       "    }\n",
       "</style>\n",
       "<table border=\"1\" class=\"dataframe\">\n",
       "  <thead>\n",
       "    <tr style=\"text-align: right;\">\n",
       "      <th>Countries</th>\n",
       "      <th>Argentina</th>\n",
       "      <th>Brazil</th>\n",
       "      <th>Colombia</th>\n",
       "      <th>England</th>\n",
       "      <th>France</th>\n",
       "      <th>Germany</th>\n",
       "      <th>Holland</th>\n",
       "      <th>Italy</th>\n",
       "      <th>Japan</th>\n",
       "      <th>Spain</th>\n",
       "    </tr>\n",
       "    <tr>\n",
       "      <th>International Reputation</th>\n",
       "      <th></th>\n",
       "      <th></th>\n",
       "      <th></th>\n",
       "      <th></th>\n",
       "      <th></th>\n",
       "      <th></th>\n",
       "      <th></th>\n",
       "      <th></th>\n",
       "      <th></th>\n",
       "      <th></th>\n",
       "    </tr>\n",
       "  </thead>\n",
       "  <tbody>\n",
       "    <tr>\n",
       "      <th>0</th>\n",
       "      <td>0.083333</td>\n",
       "      <td>0.083333</td>\n",
       "      <td>0.125000</td>\n",
       "      <td>0.083333</td>\n",
       "      <td>0.138889</td>\n",
       "      <td>0.055556</td>\n",
       "      <td>0.041667</td>\n",
       "      <td>0.027778</td>\n",
       "      <td>0.000000</td>\n",
       "      <td>0.361111</td>\n",
       "    </tr>\n",
       "    <tr>\n",
       "      <th>1</th>\n",
       "      <td>0.093831</td>\n",
       "      <td>0.056746</td>\n",
       "      <td>0.084177</td>\n",
       "      <td>0.232046</td>\n",
       "      <td>0.098069</td>\n",
       "      <td>0.133506</td>\n",
       "      <td>0.048034</td>\n",
       "      <td>0.082176</td>\n",
       "      <td>0.059571</td>\n",
       "      <td>0.111844</td>\n",
       "    </tr>\n",
       "    <tr>\n",
       "      <th>2</th>\n",
       "      <td>0.080206</td>\n",
       "      <td>0.103753</td>\n",
       "      <td>0.030905</td>\n",
       "      <td>0.098602</td>\n",
       "      <td>0.179544</td>\n",
       "      <td>0.148639</td>\n",
       "      <td>0.053716</td>\n",
       "      <td>0.143488</td>\n",
       "      <td>0.022075</td>\n",
       "      <td>0.139073</td>\n",
       "    </tr>\n",
       "    <tr>\n",
       "      <th>3</th>\n",
       "      <td>0.079339</td>\n",
       "      <td>0.163636</td>\n",
       "      <td>0.019835</td>\n",
       "      <td>0.117355</td>\n",
       "      <td>0.186777</td>\n",
       "      <td>0.090909</td>\n",
       "      <td>0.067769</td>\n",
       "      <td>0.082645</td>\n",
       "      <td>0.013223</td>\n",
       "      <td>0.178512</td>\n",
       "    </tr>\n",
       "    <tr>\n",
       "      <th>4</th>\n",
       "      <td>0.120370</td>\n",
       "      <td>0.069444</td>\n",
       "      <td>0.027778</td>\n",
       "      <td>0.027778</td>\n",
       "      <td>0.185185</td>\n",
       "      <td>0.157407</td>\n",
       "      <td>0.111111</td>\n",
       "      <td>0.111111</td>\n",
       "      <td>0.000000</td>\n",
       "      <td>0.189815</td>\n",
       "    </tr>\n",
       "    <tr>\n",
       "      <th>5</th>\n",
       "      <td>0.312500</td>\n",
       "      <td>0.531250</td>\n",
       "      <td>0.000000</td>\n",
       "      <td>0.000000</td>\n",
       "      <td>0.125000</td>\n",
       "      <td>0.031250</td>\n",
       "      <td>0.000000</td>\n",
       "      <td>0.000000</td>\n",
       "      <td>0.000000</td>\n",
       "      <td>0.000000</td>\n",
       "    </tr>\n",
       "  </tbody>\n",
       "</table>\n",
       "</div>"
      ],
      "text/plain": [
       "Countries                 Argentina    Brazil  Colombia   England    France  \\\n",
       "International Reputation                                                      \n",
       "0                          0.083333  0.083333  0.125000  0.083333  0.138889   \n",
       "1                          0.093831  0.056746  0.084177  0.232046  0.098069   \n",
       "2                          0.080206  0.103753  0.030905  0.098602  0.179544   \n",
       "3                          0.079339  0.163636  0.019835  0.117355  0.186777   \n",
       "4                          0.120370  0.069444  0.027778  0.027778  0.185185   \n",
       "5                          0.312500  0.531250  0.000000  0.000000  0.125000   \n",
       "\n",
       "Countries                  Germany   Holland     Italy     Japan     Spain  \n",
       "International Reputation                                                    \n",
       "0                         0.055556  0.041667  0.027778  0.000000  0.361111  \n",
       "1                         0.133506  0.048034  0.082176  0.059571  0.111844  \n",
       "2                         0.148639  0.053716  0.143488  0.022075  0.139073  \n",
       "3                         0.090909  0.067769  0.082645  0.013223  0.178512  \n",
       "4                         0.157407  0.111111  0.111111  0.000000  0.189815  \n",
       "5                         0.031250  0.000000  0.000000  0.000000  0.000000  "
      ]
     },
     "execution_count": 7,
     "metadata": {},
     "output_type": "execute_result"
    }
   ],
   "source": [
    "data.intl_rep = data.intl_rep.astype(object)\n",
    "repdata = data.loc[data.nationality.isin(countries.index),(\"intl_rep\",\"nationality\")]\n",
    "reptable = pd.DataFrame(pd.crosstab(repdata.intl_rep, repdata.nationality,\n",
    "                                    colnames = ['Countries'], rownames = ['International Reputation']))\n",
    "print(reptable)\n",
    "\n",
    "reptable.apply(lambda r: r/r.sum(), axis=1)# Proportion of each country within each rank\n"
   ]
  },
  {
   "cell_type": "code",
   "execution_count": 8,
   "metadata": {
    "scrolled": true
   },
   "outputs": [
    {
     "data": {
      "text/html": [
       "<div>\n",
       "<style scoped>\n",
       "    .dataframe tbody tr th:only-of-type {\n",
       "        vertical-align: middle;\n",
       "    }\n",
       "\n",
       "    .dataframe tbody tr th {\n",
       "        vertical-align: top;\n",
       "    }\n",
       "\n",
       "    .dataframe thead th {\n",
       "        text-align: right;\n",
       "    }\n",
       "</style>\n",
       "<table border=\"1\" class=\"dataframe\">\n",
       "  <thead>\n",
       "    <tr style=\"text-align: right;\">\n",
       "      <th>Countries</th>\n",
       "      <th>Argentina</th>\n",
       "      <th>Brazil</th>\n",
       "      <th>Colombia</th>\n",
       "      <th>England</th>\n",
       "      <th>France</th>\n",
       "      <th>Germany</th>\n",
       "      <th>Holland</th>\n",
       "      <th>Italy</th>\n",
       "      <th>Japan</th>\n",
       "      <th>Spain</th>\n",
       "    </tr>\n",
       "    <tr>\n",
       "      <th>International Reputation</th>\n",
       "      <th></th>\n",
       "      <th></th>\n",
       "      <th></th>\n",
       "      <th></th>\n",
       "      <th></th>\n",
       "      <th></th>\n",
       "      <th></th>\n",
       "      <th></th>\n",
       "      <th></th>\n",
       "      <th></th>\n",
       "    </tr>\n",
       "  </thead>\n",
       "  <tbody>\n",
       "    <tr>\n",
       "      <th>0</th>\n",
       "      <td>0.006024</td>\n",
       "      <td>0.007895</td>\n",
       "      <td>0.011480</td>\n",
       "      <td>0.002742</td>\n",
       "      <td>0.008039</td>\n",
       "      <td>0.002797</td>\n",
       "      <td>0.005464</td>\n",
       "      <td>0.002064</td>\n",
       "      <td>0.000000</td>\n",
       "      <td>0.019787</td>\n",
       "    </tr>\n",
       "    <tr>\n",
       "      <th>1</th>\n",
       "      <td>0.800201</td>\n",
       "      <td>0.634211</td>\n",
       "      <td>0.911990</td>\n",
       "      <td>0.900823</td>\n",
       "      <td>0.669614</td>\n",
       "      <td>0.793007</td>\n",
       "      <td>0.743169</td>\n",
       "      <td>0.720330</td>\n",
       "      <td>0.930147</td>\n",
       "      <td>0.722983</td>\n",
       "    </tr>\n",
       "    <tr>\n",
       "      <th>2</th>\n",
       "      <td>0.109438</td>\n",
       "      <td>0.185526</td>\n",
       "      <td>0.053571</td>\n",
       "      <td>0.061243</td>\n",
       "      <td>0.196141</td>\n",
       "      <td>0.141259</td>\n",
       "      <td>0.132969</td>\n",
       "      <td>0.201238</td>\n",
       "      <td>0.055147</td>\n",
       "      <td>0.143836</td>\n",
       "    </tr>\n",
       "    <tr>\n",
       "      <th>3</th>\n",
       "      <td>0.048193</td>\n",
       "      <td>0.130263</td>\n",
       "      <td>0.015306</td>\n",
       "      <td>0.032450</td>\n",
       "      <td>0.090836</td>\n",
       "      <td>0.038462</td>\n",
       "      <td>0.074681</td>\n",
       "      <td>0.051600</td>\n",
       "      <td>0.014706</td>\n",
       "      <td>0.082192</td>\n",
       "    </tr>\n",
       "    <tr>\n",
       "      <th>4</th>\n",
       "      <td>0.026104</td>\n",
       "      <td>0.019737</td>\n",
       "      <td>0.007653</td>\n",
       "      <td>0.002742</td>\n",
       "      <td>0.032154</td>\n",
       "      <td>0.023776</td>\n",
       "      <td>0.043716</td>\n",
       "      <td>0.024768</td>\n",
       "      <td>0.000000</td>\n",
       "      <td>0.031202</td>\n",
       "    </tr>\n",
       "    <tr>\n",
       "      <th>5</th>\n",
       "      <td>0.010040</td>\n",
       "      <td>0.022368</td>\n",
       "      <td>0.000000</td>\n",
       "      <td>0.000000</td>\n",
       "      <td>0.003215</td>\n",
       "      <td>0.000699</td>\n",
       "      <td>0.000000</td>\n",
       "      <td>0.000000</td>\n",
       "      <td>0.000000</td>\n",
       "      <td>0.000000</td>\n",
       "    </tr>\n",
       "  </tbody>\n",
       "</table>\n",
       "</div>"
      ],
      "text/plain": [
       "Countries                 Argentina    Brazil  Colombia   England    France  \\\n",
       "International Reputation                                                      \n",
       "0                          0.006024  0.007895  0.011480  0.002742  0.008039   \n",
       "1                          0.800201  0.634211  0.911990  0.900823  0.669614   \n",
       "2                          0.109438  0.185526  0.053571  0.061243  0.196141   \n",
       "3                          0.048193  0.130263  0.015306  0.032450  0.090836   \n",
       "4                          0.026104  0.019737  0.007653  0.002742  0.032154   \n",
       "5                          0.010040  0.022368  0.000000  0.000000  0.003215   \n",
       "\n",
       "Countries                  Germany   Holland     Italy     Japan     Spain  \n",
       "International Reputation                                                    \n",
       "0                         0.002797  0.005464  0.002064  0.000000  0.019787  \n",
       "1                         0.793007  0.743169  0.720330  0.930147  0.722983  \n",
       "2                         0.141259  0.132969  0.201238  0.055147  0.143836  \n",
       "3                         0.038462  0.074681  0.051600  0.014706  0.082192  \n",
       "4                         0.023776  0.043716  0.024768  0.000000  0.031202  \n",
       "5                         0.000699  0.000000  0.000000  0.000000  0.000000  "
      ]
     },
     "execution_count": 8,
     "metadata": {},
     "output_type": "execute_result"
    }
   ],
   "source": [
    "reptable.apply(lambda r: r/r.sum(), axis=0)# Proportion of each rank within each country"
   ]
  },
  {
   "cell_type": "markdown",
   "metadata": {},
   "source": [
    "### Comment: \n",
    "* From the first table, we see that the number of highest reputated players is not distributed evenly among these 10 countries, Argentia accounts for 31.25%, Brazil 53.13%, France 12.5%, Germany 3.13%, and the other countries have none.\n",
    "* As shown in the second table, though have the most players in the dataset, more than 90% of the players from Columbia, English, and Japan are in reputation 1. \n",
    "* The number of players does not necessarily reflect the international reputation of players from that country.\n"
   ]
  },
  {
   "cell_type": "markdown",
   "metadata": {},
   "source": [
    "## Proportion of these 10 countries in Gold and Silver Quality Compared to other countries"
   ]
  },
  {
   "cell_type": "code",
   "execution_count": 9,
   "metadata": {
    "scrolled": true
   },
   "outputs": [
    {
     "data": {
      "image/png": "[encoded data removed]",
      "text/plain": [
       "<Figure size 432x288 with 1 Axes>"
      ]
     },
     "metadata": {},
     "output_type": "display_data"
    },
    {
     "data": {
      "image/png": "[encoded data removed]",
      "text/plain": [
       "<Figure size 432x288 with 1 Axes>"
      ]
     },
     "metadata": {},
     "output_type": "display_data"
    }
   ],
   "source": [
    "#piedata = data.loc[data.nationality.isin(['Argentina','Brazil','Colombia','England','France',\n",
    "                                      #'Germany','Holland','Italy','Spain']),['nationality','quality']]\n",
    "#piedata.set_index('nationality')\n",
    "piedata = data[['nationality','quality']].copy()\n",
    "nationality = data['nationality'].copy()\n",
    "for i in range(len(nationality)):\n",
    "    if (nationality[i] in ['Argentina','Brazil','Colombia','England','France',\n",
    "                          'Germany','Holland','Italy','Spain']) == False:\n",
    "        nationality[i]= 'Others'\n",
    "nationality = pd.DataFrame({'Nationality':nationality})\n",
    "piedata = pd.concat([piedata, nationality], axis = 1)\n",
    "piedata.drop('nationality', axis = 1)\n",
    "piedata = pd.DataFrame(pd.crosstab(piedata.Nationality, piedata.quality,\n",
    "                                    colnames = ['Quality'], rownames = ['Countries']))\n",
    "piedata = piedata.apply(lambda r: r/r.sum(), axis=0)\n",
    "\n",
    "from matplotlib import cm\n",
    "for i in ['Gold','Silver']:\n",
    "    label = piedata[i].sort_values().index\n",
    "    count = piedata[i].sort_values()\n",
    "    source_pie = plt.pie(count, labels=label, autopct='%1.1f%%',\n",
    "                         colors= cm.Set3(np.arange(10)),\n",
    "                         radius =1.1,\n",
    "                         explode = count)\n",
    "    plt.suptitle(i)\n",
    "    plt.show()\n"
   ]
  },
  {
   "cell_type": "markdown",
   "metadata": {},
   "source": [
    "### Comment:\n",
    "* These 10 countries account for more than half of the Gold quality players, and almost half of the Silver quality players."
   ]
  },
  {
   "cell_type": "markdown",
   "metadata": {},
   "source": [
    "## Nationalities of top 100 players (using overall for ranking)"
   ]
  },
  {
   "cell_type": "code",
   "execution_count": 10,
   "metadata": {
    "scrolled": true
   },
   "outputs": [
    {
     "data": {
      "text/plain": [
       "Text(0,0.5,'Nationality')"
      ]
     },
     "execution_count": 10,
     "metadata": {},
     "output_type": "execute_result"
    },
    {
     "data": {
      "image/png": "[encoded data removed]",
      "text/plain": [
       "<Figure size 432x288 with 1 Axes>"
      ]
     },
     "metadata": {
      "needs_background": "light"
     },
     "output_type": "display_data"
    }
   ],
   "source": [
    "data = pd.read_csv('FIFA18 - Ultimate Team players.csv')\n",
    "top10 = data.sort_values(by = 'overall', ascending = False)\n",
    "top10 = pd.DataFrame(top10['nationality'].value_counts())\n",
    "top10.columns = ['Number of Players']\n",
    "top10 = top10.iloc[0:10].sort_values('Number of Players')\n",
    "top10.plot.barh(legend = False)\n",
    "plt.xlabel('Number of Players')\n",
    "plt.ylabel('Nationality')"
   ]
  },
  {
   "cell_type": "markdown",
   "metadata": {},
   "source": [
    "## Histogram of Player's Age"
   ]
  },
  {
   "cell_type": "code",
   "execution_count": 11,
   "metadata": {},
   "outputs": [
    {
     "data": {
      "text/plain": [
       "(array([1.370e+02, 4.690e+02, 2.289e+03, 1.439e+03, 3.288e+03, 1.884e+03,\n",
       "        1.760e+03, 3.264e+03, 1.344e+03, 2.470e+03, 8.720e+02, 1.242e+03,\n",
       "        3.700e+02, 2.460e+02, 2.740e+02, 5.300e+01, 5.100e+01, 1.700e+01,\n",
       "        7.000e+00, 2.100e+01, 3.000e+00, 1.500e+01, 7.000e+00, 6.000e+00,\n",
       "        3.000e+00, 6.000e+00, 6.000e+00, 6.000e+00, 6.000e+00, 0.000e+00,\n",
       "        0.000e+00, 0.000e+00, 0.000e+00, 0.000e+00, 0.000e+00, 0.000e+00,\n",
       "        0.000e+00, 0.000e+00, 0.000e+00, 0.000e+00, 0.000e+00, 0.000e+00,\n",
       "        3.000e+00, 0.000e+00, 0.000e+00, 0.000e+00, 0.000e+00, 0.000e+00,\n",
       "        0.000e+00, 3.000e+00]),\n",
       " array([17.  , 18.42, 19.84, 21.26, 22.68, 24.1 , 25.52, 26.94, 28.36,\n",
       "        29.78, 31.2 , 32.62, 34.04, 35.46, 36.88, 38.3 , 39.72, 41.14,\n",
       "        42.56, 43.98, 45.4 , 46.82, 48.24, 49.66, 51.08, 52.5 , 53.92,\n",
       "        55.34, 56.76, 58.18, 59.6 , 61.02, 62.44, 63.86, 65.28, 66.7 ,\n",
       "        68.12, 69.54, 70.96, 72.38, 73.8 , 75.22, 76.64, 78.06, 79.48,\n",
       "        80.9 , 82.32, 83.74, 85.16, 86.58, 88.  ]),\n",
       " <a list of 50 Patch objects>)"
      ]
     },
     "execution_count": 11,
     "metadata": {},
     "output_type": "execute_result"
    },
    {
     "data": {
      "image/png": "[encoded data removed]",
      "text/plain": [
       "<Figure size 432x288 with 1 Axes>"
      ]
     },
     "metadata": {
      "needs_background": "light"
     },
     "output_type": "display_data"
    }
   ],
   "source": [
    "plt.hist(data['age'], bins = 50)"
   ]
  },
  {
   "cell_type": "markdown",
   "metadata": {},
   "source": [
    "### Comment:\n"
   ]
  },
  {
   "cell_type": "markdown",
   "metadata": {},
   "source": [
    "# Relationship between Age and Overall Rating"
   ]
  },
  {
   "cell_type": "code",
   "execution_count": 12,
   "metadata": {
    "scrolled": true
   },
   "outputs": [
    {
     "name": "stdout",
     "output_type": "stream",
     "text": [
      "       overall\n",
      "age           \n",
      "17   71.500000\n",
      "18   57.681481\n",
      "19   59.388060\n",
      "20   59.828415\n",
      "21   63.085153\n",
      "22   65.305768\n",
      "23   66.712753\n",
      "24   68.002347\n"
     ]
    },
    {
     "data": {
      "text/html": [
       "<div>\n",
       "<style scoped>\n",
       "    .dataframe tbody tr th:only-of-type {\n",
       "        vertical-align: middle;\n",
       "    }\n",
       "\n",
       "    .dataframe tbody tr th {\n",
       "        vertical-align: top;\n",
       "    }\n",
       "\n",
       "    .dataframe thead th {\n",
       "        text-align: right;\n",
       "    }\n",
       "</style>\n",
       "<table border=\"1\" class=\"dataframe\">\n",
       "  <thead>\n",
       "    <tr style=\"text-align: right;\">\n",
       "      <th></th>\n",
       "      <th>age</th>\n",
       "      <th>count</th>\n",
       "    </tr>\n",
       "  </thead>\n",
       "  <tbody>\n",
       "    <tr>\n",
       "      <th>0</th>\n",
       "      <td>17</td>\n",
       "      <td>2</td>\n",
       "    </tr>\n",
       "    <tr>\n",
       "      <th>1</th>\n",
       "      <td>18</td>\n",
       "      <td>135</td>\n",
       "    </tr>\n",
       "    <tr>\n",
       "      <th>2</th>\n",
       "      <td>19</td>\n",
       "      <td>469</td>\n",
       "    </tr>\n",
       "    <tr>\n",
       "      <th>3</th>\n",
       "      <td>20</td>\n",
       "      <td>915</td>\n",
       "    </tr>\n",
       "    <tr>\n",
       "      <th>4</th>\n",
       "      <td>21</td>\n",
       "      <td>1374</td>\n",
       "    </tr>\n",
       "  </tbody>\n",
       "</table>\n",
       "</div>"
      ],
      "text/plain": [
       "   age  count\n",
       "0   17      2\n",
       "1   18    135\n",
       "2   19    469\n",
       "3   20    915\n",
       "4   21   1374"
      ]
     },
     "execution_count": 12,
     "metadata": {},
     "output_type": "execute_result"
    },
    {
     "data": {
      "image/png": "[encoded data removed]",
      "text/plain": [
       "<Figure size 432x288 with 1 Axes>"
      ]
     },
     "metadata": {
      "needs_background": "light"
     },
     "output_type": "display_data"
    }
   ],
   "source": [
    "agedata = data[['age','overall']].groupby('age').mean()\n",
    "agedata = agedata[agedata.index < 40]\n",
    "myplot = sns.lineplot(x =agedata.index , y = 'overall',data = agedata)\n",
    "print(agedata[agedata.index < 25])\n",
    "agesummary = data['age'].value_counts().reset_index()\n",
    "agesummary.columns = ['age','count']\n",
    "agesummary.sort_values(by = 'age').reset_index().drop('index', axis = 1)[:5]"
   ]
  },
  {
   "cell_type": "markdown",
   "metadata": {},
   "source": [
    "### Comment: \n",
    "* We only look at the data of players under 40 years old because most players will retire by that age.\n",
    "* We can see that there is a critical drop in average overall rating when age changes from 17 to 18, then it steadily increases after 18. This is because there are only 2 player cards associated with age 17, so the mean is (67+76)/2; and among players at age 18, the highest rating is 87 while the majority of rating is at around 50 and thus, the mean drops significantly from 17 to 18"
   ]
  },
  {
   "cell_type": "markdown",
   "metadata": {},
   "source": [
    "## 10 clubs that have youngest players"
   ]
  },
  {
   "cell_type": "code",
   "execution_count": 13,
   "metadata": {},
   "outputs": [
    {
     "data": {
      "text/html": [
       "<div>\n",
       "<style scoped>\n",
       "    .dataframe tbody tr th:only-of-type {\n",
       "        vertical-align: middle;\n",
       "    }\n",
       "\n",
       "    .dataframe tbody tr th {\n",
       "        vertical-align: top;\n",
       "    }\n",
       "\n",
       "    .dataframe thead th {\n",
       "        text-align: right;\n",
       "    }\n",
       "</style>\n",
       "<table border=\"1\" class=\"dataframe\">\n",
       "  <thead>\n",
       "    <tr style=\"text-align: right;\">\n",
       "      <th></th>\n",
       "      <th>club</th>\n",
       "      <th>Mean Age</th>\n",
       "    </tr>\n",
       "  </thead>\n",
       "  <tbody>\n",
       "    <tr>\n",
       "      <th>0</th>\n",
       "      <td>Atlético Mineiro</td>\n",
       "      <td>21.000000</td>\n",
       "    </tr>\n",
       "    <tr>\n",
       "      <th>1</th>\n",
       "      <td>Sevilla Atlético</td>\n",
       "      <td>21.037037</td>\n",
       "    </tr>\n",
       "    <tr>\n",
       "      <th>2</th>\n",
       "      <td>FC Barcelona “B”</td>\n",
       "      <td>21.526316</td>\n",
       "    </tr>\n",
       "    <tr>\n",
       "      <th>3</th>\n",
       "      <td>São Paulo</td>\n",
       "      <td>22.000000</td>\n",
       "    </tr>\n",
       "    <tr>\n",
       "      <th>4</th>\n",
       "      <td>Santos</td>\n",
       "      <td>22.000000</td>\n",
       "    </tr>\n",
       "    <tr>\n",
       "      <th>5</th>\n",
       "      <td>SW Werder Bremen II</td>\n",
       "      <td>22.678571</td>\n",
       "    </tr>\n",
       "    <tr>\n",
       "      <th>6</th>\n",
       "      <td>Ajax</td>\n",
       "      <td>22.769231</td>\n",
       "    </tr>\n",
       "    <tr>\n",
       "      <th>7</th>\n",
       "      <td>Walsall</td>\n",
       "      <td>22.771429</td>\n",
       "    </tr>\n",
       "    <tr>\n",
       "      <th>8</th>\n",
       "      <td>Galway United</td>\n",
       "      <td>23.115385</td>\n",
       "    </tr>\n",
       "    <tr>\n",
       "      <th>9</th>\n",
       "      <td>Royal Excel Mouscron</td>\n",
       "      <td>23.333333</td>\n",
       "    </tr>\n",
       "  </tbody>\n",
       "</table>\n",
       "</div>"
      ],
      "text/plain": [
       "                   club   Mean Age\n",
       "0      Atlético Mineiro  21.000000\n",
       "1      Sevilla Atlético  21.037037\n",
       "2      FC Barcelona “B”  21.526316\n",
       "3             São Paulo  22.000000\n",
       "4                Santos  22.000000\n",
       "5   SW Werder Bremen II  22.678571\n",
       "6                  Ajax  22.769231\n",
       "7               Walsall  22.771429\n",
       "8         Galway United  23.115385\n",
       "9  Royal Excel Mouscron  23.333333"
      ]
     },
     "execution_count": 13,
     "metadata": {},
     "output_type": "execute_result"
    }
   ],
   "source": [
    "meanAgeInClub = data.groupby(['club'])['age'].mean()\n",
    "\n",
    "meanAgeInClub = meanAgeInClub.rename_axis(('club')).reset_index(name='Mean Age').sort_values('Mean Age')\n",
    "meanAgeInClub.head(10).reset_index(drop=True)"
   ]
  },
  {
   "cell_type": "markdown",
   "metadata": {},
   "source": [
    "## The most expensive players on PS4 platform"
   ]
  },
  {
   "cell_type": "code",
   "execution_count": 14,
   "metadata": {},
   "outputs": [
    {
     "name": "stdout",
     "output_type": "stream",
     "text": [
      "4717000.0\n",
      "18990    C. Ronaldo dos Santos Aveiro\n",
      "Name: player_extended_name, dtype: object\n"
     ]
    }
   ],
   "source": [
    "print(np.max(data.price_ps4))\n",
    "print(data[data.price_ps4 == np.max(data.price_ps4)].player_extended_name)"
   ]
  },
  {
   "cell_type": "markdown",
   "metadata": {},
   "source": [
    "## Does preferred foot affect overall rating?"
   ]
  },
  {
   "cell_type": "code",
   "execution_count": 15,
   "metadata": {},
   "outputs": [
    {
     "data": {
      "text/plain": [
       "<matplotlib.axes._subplots.AxesSubplot at 0x1a257e6f28>"
      ]
     },
     "execution_count": 15,
     "metadata": {},
     "output_type": "execute_result"
    },
    {
     "data": {
      "image/png": "[encoded data removed]",
      "text/plain": [
       "<Figure size 432x288 with 1 Axes>"
      ]
     },
     "metadata": {
      "needs_background": "light"
     },
     "output_type": "display_data"
    }
   ],
   "source": [
    "data[['pref_foot','overall']].groupby('pref_foot').mean().plot.bar()"
   ]
  },
  {
   "cell_type": "markdown",
   "metadata": {},
   "source": [
    "### Comment:\n",
    "* The plot suggests that the overall rating is similar for players who prefer using left leg and those who prefer using right leg. We should not include this variable in the model."
   ]
  },
  {
   "cell_type": "markdown",
   "metadata": {},
   "source": [
    "## Does preferred position affect overall rating?"
   ]
  },
  {
   "cell_type": "code",
   "execution_count": 16,
   "metadata": {},
   "outputs": [
    {
     "data": {
      "text/plain": [
       "Text(0,0.5,'Position')"
      ]
     },
     "execution_count": 16,
     "metadata": {},
     "output_type": "execute_result"
    },
    {
     "data": {
      "image/png": "[encoded data removed]",
      "text/plain": [
       "<Figure size 432x288 with 1 Axes>"
      ]
     },
     "metadata": {
      "needs_background": "light"
     },
     "output_type": "display_data"
    }
   ],
   "source": [
    "positiontable = data[['position','overall']].groupby('position').mean().sort_values(by ='overall')\n",
    "positiontable.plot.barh(legend = False)\n",
    "plt.xlabel('Overal Rating')\n",
    "plt.ylabel('Position')"
   ]
  },
  {
   "cell_type": "code",
   "execution_count": 17,
   "metadata": {},
   "outputs": [
    {
     "data": {
      "text/plain": [
       "<matplotlib.axes._subplots.AxesSubplot at 0x110f144a8>"
      ]
     },
     "execution_count": 17,
     "metadata": {},
     "output_type": "execute_result"
    },
    {
     "data": {
      "image/png": "[encoded data removed]",
      "text/plain": [
       "<Figure size 432x288 with 1 Axes>"
      ]
     },
     "metadata": {
      "needs_background": "light"
     },
     "output_type": "display_data"
    }
   ],
   "source": [
    "sns.boxplot(x=\"position\", y=\"overall\", data=data)"
   ]
  },
  {
   "cell_type": "markdown",
   "metadata": {},
   "source": [
    "### Comment:\n",
    "* The plot suggests that the overall rating is similar any position except just for left and right forward. We should not include this variable in the model."
   ]
  },
  {
   "cell_type": "markdown",
   "metadata": {},
   "source": [
    "## Do skill ratings affect overall rating?"
   ]
  },
  {
   "cell_type": "code",
   "execution_count": 18,
   "metadata": {
    "scrolled": true
   },
   "outputs": [
    {
     "data": {
      "text/plain": [
       "<matplotlib.axes._subplots.AxesSubplot at 0x1a25ca0630>"
      ]
     },
     "execution_count": 18,
     "metadata": {},
     "output_type": "execute_result"
    },
    {
     "data": {
      "image/png": "[encoded data removed]",
      "text/plain": [
       "<Figure size 432x288 with 1 Axes>"
      ]
     },
     "metadata": {
      "needs_background": "light"
     },
     "output_type": "display_data"
    }
   ],
   "source": [
    "sns.scatterplot(x = \"shooting\", y = \"overall\", data = data)"
   ]
  },
  {
   "cell_type": "code",
   "execution_count": 19,
   "metadata": {},
   "outputs": [
    {
     "data": {
      "text/plain": [
       "<matplotlib.axes._subplots.AxesSubplot at 0x1a25bf2320>"
      ]
     },
     "execution_count": 19,
     "metadata": {},
     "output_type": "execute_result"
    },
    {
     "data": {
      "image/png": "[encoded data removed]",
      "text/plain": [
       "<Figure size 432x288 with 1 Axes>"
      ]
     },
     "metadata": {
      "needs_background": "light"
     },
     "output_type": "display_data"
    }
   ],
   "source": [
    "sns.scatterplot(x = \"dribbling\", y = \"overall\", data = data, color=\"orange\")"
   ]
  },
  {
   "cell_type": "markdown",
   "metadata": {},
   "source": [
    "### Comment:\n",
    "* It appears that skill rating variables like shooting or dribbling have strong linear relationship with overall rating. We should include these variables in the model."
   ]
  },
  {
   "cell_type": "markdown",
   "metadata": {},
   "source": [
    "# Regression Model"
   ]
  },
  {
   "cell_type": "code",
   "execution_count": 46,
   "metadata": {},
   "outputs": [
    {
     "data": {
      "text/plain": [
       "(21561, 46)"
      ]
     },
     "execution_count": 46,
     "metadata": {},
     "output_type": "execute_result"
    }
   ],
   "source": [
    "newdata = data.loc[:,'overall':'phys_aggression']\n",
    "newdata.shape"
   ]
  },
  {
   "cell_type": "code",
   "execution_count": 47,
   "metadata": {},
   "outputs": [
    {
     "data": {
      "text/plain": [
       "Index(['overall', 'club', 'league', 'nationality', 'position', 'age',\n",
       "       'date_of_birth', 'height', 'weight', 'intl_rep', 'added_date', 'pace',\n",
       "       'pace_acceleration', 'pace_sprint_speed', 'dribbling', 'drib_agility',\n",
       "       'drib_balance', 'drib_reactions', 'drib_ball_control', 'drib_dribbling',\n",
       "       'drib_composure', 'shooting', 'shoot_positioning', 'shoot_finishing',\n",
       "       'shoot_shot_power', 'shoot_long_shots', 'shoot_volleys',\n",
       "       'shoot_penalties', 'passing', 'pass_vision', 'pass_crossing',\n",
       "       'pass_free_kick', 'pass_short', 'pass_long', 'pass_curve', 'defending',\n",
       "       'def_interceptions', 'def_heading', 'def_marking', 'def_stand_tackle',\n",
       "       'def_slid_tackle', 'physicality', 'phys_jumping', 'phys_stamina',\n",
       "       'phys_strength', 'phys_aggression'],\n",
       "      dtype='object')"
      ]
     },
     "execution_count": 47,
     "metadata": {},
     "output_type": "execute_result"
    }
   ],
   "source": [
    "newdata.columns"
   ]
  },
  {
   "cell_type": "code",
   "execution_count": 48,
   "metadata": {},
   "outputs": [
    {
     "data": {
      "text/plain": [
       "(21561, 40)"
      ]
     },
     "execution_count": 48,
     "metadata": {},
     "output_type": "execute_result"
    }
   ],
   "source": [
    "newdata = newdata.drop(['date_of_birth','added_date','club', 'league', 'nationality',\n",
    "       'position'], axis = 1)\n",
    "newdata.shape"
   ]
  },
  {
   "cell_type": "code",
   "execution_count": 49,
   "metadata": {},
   "outputs": [
    {
     "data": {
      "text/plain": [
       "(21561, 40)"
      ]
     },
     "execution_count": 49,
     "metadata": {},
     "output_type": "execute_result"
    }
   ],
   "source": [
    "newdata = newdata.apply(lambda i: i.fillna(np.mean(i)))\n",
    "newdata.shape"
   ]
  },
  {
   "cell_type": "code",
   "execution_count": 50,
   "metadata": {},
   "outputs": [],
   "source": [
    "y = newdata.overall\n",
    "X = newdata.drop(['overall'], axis =1)\n",
    "X_train, X_test, y_train, y_test = train_test_split(X, y, test_size = 1/5, random_state = 1,stratify = y)"
   ]
  },
  {
   "cell_type": "code",
   "execution_count": 51,
   "metadata": {},
   "outputs": [
    {
     "data": {
      "text/plain": [
       "(17248, 39)"
      ]
     },
     "execution_count": 51,
     "metadata": {},
     "output_type": "execute_result"
    }
   ],
   "source": [
    "X_train.shape"
   ]
  },
  {
   "cell_type": "code",
   "execution_count": 26,
   "metadata": {},
   "outputs": [
    {
     "data": {
      "text/plain": [
       "(array([ 284., 1020., 2463., 6314., 5112., 3238., 1743.,  834.,  403.,\n",
       "         150.]),\n",
       " array([46. , 51.3, 56.6, 61.9, 67.2, 72.5, 77.8, 83.1, 88.4, 93.7, 99. ]),\n",
       " <a list of 10 Patch objects>)"
      ]
     },
     "execution_count": 26,
     "metadata": {},
     "output_type": "execute_result"
    },
    {
     "data": {
      "image/png": "[encoded data removed]",
      "text/plain": [
       "<Figure size 432x288 with 1 Axes>"
      ]
     },
     "metadata": {
      "needs_background": "light"
     },
     "output_type": "display_data"
    }
   ],
   "source": [
    "plt.hist(newdata.overall)"
   ]
  },
  {
   "cell_type": "code",
   "execution_count": 27,
   "metadata": {},
   "outputs": [],
   "source": [
    "linear = linear_model.LinearRegression(fit_intercept = True)"
   ]
  },
  {
   "cell_type": "code",
   "execution_count": 28,
   "metadata": {},
   "outputs": [
    {
     "data": {
      "text/plain": [
       "(21561, 40)"
      ]
     },
     "execution_count": 28,
     "metadata": {},
     "output_type": "execute_result"
    }
   ],
   "source": [
    "newdata.shape"
   ]
  },
  {
   "cell_type": "code",
   "execution_count": 29,
   "metadata": {},
   "outputs": [
    {
     "data": {
      "text/plain": [
       "LinearRegression(copy_X=True, fit_intercept=True, n_jobs=1, normalize=False)"
      ]
     },
     "execution_count": 29,
     "metadata": {},
     "output_type": "execute_result"
    }
   ],
   "source": [
    "linear.fit(X_train, y_train)"
   ]
  },
  {
   "cell_type": "code",
   "execution_count": 30,
   "metadata": {},
   "outputs": [
    {
     "data": {
      "text/plain": [
       "0.8777951663779782"
      ]
     },
     "execution_count": 30,
     "metadata": {},
     "output_type": "execute_result"
    }
   ],
   "source": [
    "linear.score(X_test, y_test)"
   ]
  },
  {
   "cell_type": "code",
   "execution_count": 31,
   "metadata": {},
   "outputs": [],
   "source": [
    "cv = model_selection.ShuffleSplit(n_splits=5, test_size=0.2, random_state=0)\n",
    "cv_linear = model_selection.cross_val_score(linear, X, y, cv = cv)"
   ]
  },
  {
   "cell_type": "code",
   "execution_count": 32,
   "metadata": {
    "scrolled": true
   },
   "outputs": [
    {
     "name": "stdout",
     "output_type": "stream",
     "text": [
      "[0.88946    0.88384806 0.87986843 0.88276967 0.87745702]\n",
      "0.882680635169111\n"
     ]
    }
   ],
   "source": [
    "print(cv_linear)\n",
    "print(np.mean(cv_linear))"
   ]
  },
  {
   "cell_type": "code",
   "execution_count": 33,
   "metadata": {},
   "outputs": [
    {
     "data": {
      "text/plain": [
       "array([ 0.05079126,  0.01912894,  0.01837293,  1.42669585, -0.11050006,\n",
       "        0.09536244,  0.09908283,  0.21137829, -0.01797197, -0.01917675,\n",
       "        0.33633067,  0.08839208, -0.09367985,  0.06938559,  0.18012856,\n",
       "       -0.07305183, -0.05517999, -0.01477847, -0.05461267, -0.01955036,\n",
       "       -0.00743092, -0.07595401,  0.02400833,  0.01813949,  0.00686204,\n",
       "        0.11019974,  0.00339882,  0.01023251,  0.14919681, -0.02558446,\n",
       "        0.04490096, -0.0319005 , -0.02860514, -0.02583455, -0.01763437,\n",
       "        0.01240234,  0.00974609,  0.05129529, -0.00351937])"
      ]
     },
     "execution_count": 33,
     "metadata": {},
     "output_type": "execute_result"
    }
   ],
   "source": [
    "linear.coef_"
   ]
  },
  {
   "cell_type": "code",
   "execution_count": 34,
   "metadata": {},
   "outputs": [
    {
     "name": "stdout",
     "output_type": "stream",
     "text": [
      "0.03185930337702988\n"
     ]
    },
    {
     "data": {
      "text/plain": [
       "(array([6.000e+00, 6.100e+01, 4.260e+02, 1.854e+03, 1.563e+03, 3.420e+02,\n",
       "        4.900e+01, 9.000e+00, 1.000e+00, 2.000e+00]),\n",
       " array([-13.6664042 , -10.18126822,  -6.69613223,  -3.21099625,\n",
       "          0.27413974,   3.75927572,   7.24441171,  10.72954769,\n",
       "         14.21468368,  17.69981966,  21.18495565]),\n",
       " <a list of 10 Patch objects>)"
      ]
     },
     "execution_count": 34,
     "metadata": {},
     "output_type": "execute_result"
    },
    {
     "data": {
      "image/png": "[encoded data removed]",
      "text/plain": [
       "<Figure size 432x288 with 1 Axes>"
      ]
     },
     "metadata": {
      "needs_background": "light"
     },
     "output_type": "display_data"
    }
   ],
   "source": [
    "#Distribution of Residuals\n",
    "residuals = y_test - linear.predict(X_test)\n",
    "print(np.mean(residuals))\n",
    "plt.hist(residuals)"
   ]
  },
  {
   "cell_type": "code",
   "execution_count": 35,
   "metadata": {},
   "outputs": [
    {
     "data": {
      "text/plain": [
       "[<matplotlib.lines.Line2D at 0x1a2491b828>]"
      ]
     },
     "execution_count": 35,
     "metadata": {},
     "output_type": "execute_result"
    },
    {
     "data": {
      "image/png": "[encoded data removed]",
      "text/plain": [
       "<Figure size 432x288 with 1 Axes>"
      ]
     },
     "metadata": {
      "needs_background": "light"
     },
     "output_type": "display_data"
    }
   ],
   "source": [
    "# Residual vs. Fitted\n",
    "plt.plot(linear.predict(X_test), residuals, \"o\")"
   ]
  },
  {
   "cell_type": "markdown",
   "metadata": {},
   "source": [
    "### Comments:\n",
    "* The histogram of overall rating is quite normal, therefore, we try fitting linear regression model to the data.\n",
    "* The residuals follows normal distribution with mean close to 0 (0.03) as shown in the histogram.\n",
    "* The variance of residuals is considered to be constant, since there is no pattern in the Residuals vs. Fitted plot.\n",
    "* We also do cross validation to test if it overfits the data.\n",
    "* The score before and after doing cross validation is similar (0.878 vs. 0.8826), so it appears to be a good model. However, we will try Lasso method to check if we can eliminate some insignificant predictors."
   ]
  },
  {
   "cell_type": "markdown",
   "metadata": {},
   "source": [
    "# Using Lasso to shrink the model"
   ]
  },
  {
   "cell_type": "code",
   "execution_count": 36,
   "metadata": {},
   "outputs": [],
   "source": [
    "from sklearn.linear_model import Lasso, LassoCV\n",
    "from sklearn.preprocessing import scale \n",
    "from sklearn.metrics import mean_squared_error"
   ]
  },
  {
   "cell_type": "code",
   "execution_count": 37,
   "metadata": {
    "scrolled": true
   },
   "outputs": [
    {
     "data": {
      "text/plain": [
       "Text(0,0.5,'weights')"
      ]
     },
     "execution_count": 37,
     "metadata": {},
     "output_type": "execute_result"
    },
    {
     "data": {
      "image/png": "[encoded data removed]",
      "text/plain": [
       "<Figure size 432x288 with 1 Axes>"
      ]
     },
     "metadata": {
      "needs_background": "light"
     },
     "output_type": "display_data"
    }
   ],
   "source": [
    "alphas = 10**np.linspace(10,-2,100)*0.5\n",
    "lasso = Lasso(max_iter = 10000, normalize = True)\n",
    "coefs = []\n",
    "\n",
    "for a in alphas:\n",
    "    lasso.set_params(alpha=a)\n",
    "    lasso.fit(scale(X_train), y_train)\n",
    "    coefs.append(lasso.coef_)\n",
    "\n",
    "ax = plt.gca()\n",
    "ax.plot(alphas*2, coefs)\n",
    "ax.set_xscale('log')\n",
    "plt.axis('tight')\n",
    "plt.xlabel('alpha')\n",
    "plt.ylabel('weights')"
   ]
  },
  {
   "cell_type": "code",
   "execution_count": 43,
   "metadata": {
    "scrolled": true
   },
   "outputs": [
    {
     "data": {
      "text/plain": [
       "5.80090466058627e-05"
      ]
     },
     "execution_count": 43,
     "metadata": {},
     "output_type": "execute_result"
    }
   ],
   "source": [
    "# Perform a 10 fold cross-validation to determine the alpha to use\n",
    "lassocv = LassoCV(alphas = None, cv = 10, max_iter = 10000, normalize = True)\n",
    "lassocv.fit(X_train, y_train)\n",
    "# The best alpha to use:\n",
    "lassocv.alpha_"
   ]
  },
  {
   "cell_type": "code",
   "execution_count": 39,
   "metadata": {},
   "outputs": [
    {
     "data": {
      "text/plain": [
       "9.02704122872471"
      ]
     },
     "execution_count": 39,
     "metadata": {},
     "output_type": "execute_result"
    }
   ],
   "source": [
    "# Using this best alpha from cross-validation, we get the lowest testing MSE for LASSO\n",
    "lasso.set_params(alpha=lassocv.alpha_)\n",
    "lasso.fit(X_train, y_train)\n",
    "mean_squared_error(y_test, lasso.predict(X_test))"
   ]
  },
  {
   "cell_type": "code",
   "execution_count": 40,
   "metadata": {},
   "outputs": [
    {
     "data": {
      "text/plain": [
       "age                  0.051692\n",
       "height               0.024863\n",
       "weight               0.018604\n",
       "intl_rep             1.459288\n",
       "pace                -0.075469\n",
       "pace_acceleration    0.078931\n",
       "pace_sprint_speed    0.081557\n",
       "dribbling            0.240553\n",
       "drib_agility        -0.015247\n",
       "drib_balance        -0.020133\n",
       "drib_reactions       0.343748\n",
       "drib_ball_control    0.064394\n",
       "drib_dribbling      -0.104076\n",
       "drib_composure       0.069363\n",
       "shooting             0.103100\n",
       "shoot_positioning   -0.068650\n",
       "shoot_finishing     -0.020931\n",
       "shoot_shot_power    -0.000000\n",
       "shoot_long_shots    -0.038022\n",
       "shoot_volleys       -0.015015\n",
       "shoot_penalties     -0.000801\n",
       "passing              0.000000\n",
       "pass_vision          0.011588\n",
       "pass_crossing        0.000000\n",
       "pass_free_kick       0.000000\n",
       "pass_short           0.081184\n",
       "pass_long           -0.000000\n",
       "pass_curve           0.003279\n",
       "defending            0.068764\n",
       "def_interceptions   -0.008870\n",
       "def_heading          0.044899\n",
       "def_marking         -0.007668\n",
       "def_stand_tackle    -0.006615\n",
       "def_slid_tackle     -0.017315\n",
       "physicality          0.000000\n",
       "phys_jumping         0.013141\n",
       "phys_stamina         0.000850\n",
       "phys_strength        0.045724\n",
       "phys_aggression     -0.005982\n",
       "dtype: float64"
      ]
     },
     "execution_count": 40,
     "metadata": {},
     "output_type": "execute_result"
    }
   ],
   "source": [
    "pd.Series(lasso.coef_, index=X.columns)"
   ]
  },
  {
   "cell_type": "markdown",
   "metadata": {},
   "source": [
    "### Comments: \n",
    "* From what we have learned, LASSO with a desirable choice of the tuning parameter lambda (argument alpha in python) would outperform the least square.\n",
    "* As we can see from the coefficient vs. tuning parameter plot (weights vs. alpha), most of the coefficients equal to zero for a choice of big alpha\n",
    "* By performing a 10-fold cross validation, we found that the best alpha is about 5.80090466058627e-05, which resulted in a testing MSE of 9.02704\n",
    "* We see that 8 out of 39 of the features are associated with a coefficient that is either 0 or very closed to 0, so we would disregard those 8 features."
   ]
  }
 ],
 "metadata": {
  "kernelspec": {
   "display_name": "Python 3",
   "language": "python",
   "name": "python3"
  },
  "language_info": {
   "codemirror_mode": {
    "name": "ipython",
    "version": 3
   },
   "file_extension": ".py",
   "mimetype": "text/x-python",
   "name": "python",
   "nbconvert_exporter": "python",
   "pygments_lexer": "ipython3",
   "version": "3.7.0"
  }
 },
 "nbformat": 4,
 "nbformat_minor": 2
}
